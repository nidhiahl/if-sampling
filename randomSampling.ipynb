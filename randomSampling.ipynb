{
 "cells": [
  {
   "cell_type": "code",
   "execution_count": 1,
   "id": "75f29e87-653e-4b85-b1db-8865e5ce7ca9",
   "metadata": {},
   "outputs": [],
   "source": [
    "import pandas as pd\n",
    "import scipy.stats\n",
    "import numpy as np"
   ]
  },
  {
   "cell_type": "code",
   "execution_count": 142,
   "id": "d1ac33db-ce06-4b94-a7e5-f766771e4e37",
   "metadata": {},
   "outputs": [],
   "source": [
    "data = pd.read_csv(r'haberman/haberman.csv', sep = ' ', header = None, skiprows = 1)"
   ]
  },
  {
   "cell_type": "code",
   "execution_count": 143,
   "id": "5db04e5d-73c7-4c06-809f-08d700825b19",
   "metadata": {},
   "outputs": [],
   "source": [
    "data =data.set_index(0)"
   ]
  },
  {
   "cell_type": "code",
   "execution_count": 144,
   "id": "ef7000bc-d1f2-4066-ac77-1471f2221a8e",
   "metadata": {},
   "outputs": [
    {
     "data": {
      "text/html": [
       "<div>\n",
       "<style scoped>\n",
       "    .dataframe tbody tr th:only-of-type {\n",
       "        vertical-align: middle;\n",
       "    }\n",
       "\n",
       "    .dataframe tbody tr th {\n",
       "        vertical-align: top;\n",
       "    }\n",
       "\n",
       "    .dataframe thead th {\n",
       "        text-align: right;\n",
       "    }\n",
       "</style>\n",
       "<table border=\"1\" class=\"dataframe\">\n",
       "  <thead>\n",
       "    <tr style=\"text-align: right;\">\n",
       "      <th></th>\n",
       "      <th>1</th>\n",
       "      <th>2</th>\n",
       "      <th>3</th>\n",
       "      <th>4</th>\n",
       "    </tr>\n",
       "    <tr>\n",
       "      <th>0</th>\n",
       "      <th></th>\n",
       "      <th></th>\n",
       "      <th></th>\n",
       "      <th></th>\n",
       "    </tr>\n",
       "  </thead>\n",
       "  <tbody>\n",
       "    <tr>\n",
       "      <th>0</th>\n",
       "      <td>30</td>\n",
       "      <td>64</td>\n",
       "      <td>1</td>\n",
       "      <td>1</td>\n",
       "    </tr>\n",
       "    <tr>\n",
       "      <th>1</th>\n",
       "      <td>30</td>\n",
       "      <td>62</td>\n",
       "      <td>3</td>\n",
       "      <td>1</td>\n",
       "    </tr>\n",
       "    <tr>\n",
       "      <th>2</th>\n",
       "      <td>30</td>\n",
       "      <td>65</td>\n",
       "      <td>0</td>\n",
       "      <td>1</td>\n",
       "    </tr>\n",
       "    <tr>\n",
       "      <th>3</th>\n",
       "      <td>31</td>\n",
       "      <td>59</td>\n",
       "      <td>2</td>\n",
       "      <td>1</td>\n",
       "    </tr>\n",
       "    <tr>\n",
       "      <th>4</th>\n",
       "      <td>31</td>\n",
       "      <td>65</td>\n",
       "      <td>4</td>\n",
       "      <td>1</td>\n",
       "    </tr>\n",
       "    <tr>\n",
       "      <th>...</th>\n",
       "      <td>...</td>\n",
       "      <td>...</td>\n",
       "      <td>...</td>\n",
       "      <td>...</td>\n",
       "    </tr>\n",
       "    <tr>\n",
       "      <th>301</th>\n",
       "      <td>75</td>\n",
       "      <td>62</td>\n",
       "      <td>1</td>\n",
       "      <td>1</td>\n",
       "    </tr>\n",
       "    <tr>\n",
       "      <th>302</th>\n",
       "      <td>76</td>\n",
       "      <td>67</td>\n",
       "      <td>0</td>\n",
       "      <td>1</td>\n",
       "    </tr>\n",
       "    <tr>\n",
       "      <th>303</th>\n",
       "      <td>77</td>\n",
       "      <td>65</td>\n",
       "      <td>3</td>\n",
       "      <td>1</td>\n",
       "    </tr>\n",
       "    <tr>\n",
       "      <th>304</th>\n",
       "      <td>78</td>\n",
       "      <td>65</td>\n",
       "      <td>1</td>\n",
       "      <td>2</td>\n",
       "    </tr>\n",
       "    <tr>\n",
       "      <th>305</th>\n",
       "      <td>83</td>\n",
       "      <td>58</td>\n",
       "      <td>2</td>\n",
       "      <td>2</td>\n",
       "    </tr>\n",
       "  </tbody>\n",
       "</table>\n",
       "<p>306 rows × 4 columns</p>\n",
       "</div>"
      ],
      "text/plain": [
       "      1   2  3  4\n",
       "0                \n",
       "0    30  64  1  1\n",
       "1    30  62  3  1\n",
       "2    30  65  0  1\n",
       "3    31  59  2  1\n",
       "4    31  65  4  1\n",
       "..   ..  .. .. ..\n",
       "301  75  62  1  1\n",
       "302  76  67  0  1\n",
       "303  77  65  3  1\n",
       "304  78  65  1  2\n",
       "305  83  58  2  2\n",
       "\n",
       "[306 rows x 4 columns]"
      ]
     },
     "execution_count": 144,
     "metadata": {},
     "output_type": "execute_result"
    }
   ],
   "source": [
    "data"
   ]
  },
  {
   "cell_type": "code",
   "execution_count": 145,
   "id": "66e0af08-64dc-4d47-b2ad-8a4981f6bb48",
   "metadata": {},
   "outputs": [],
   "source": [
    "def pick_samples(sampling,sizeprm):\n",
    "    import random as rnd\n",
    "    sample_size = int(len(data)*sizeprm)\n",
    "    if sampling=='random':\n",
    "        return rnd.sample(range(len(data)), sample_size)"
   ]
  },
  {
   "cell_type": "code",
   "execution_count": 170,
   "id": "7b4bc3e4-63c8-43a2-a882-8b3729380a98",
   "metadata": {},
   "outputs": [
    {
     "data": {
      "text/plain": [
       "<Figure size 640x480 with 0 Axes>"
      ]
     },
     "metadata": {},
     "output_type": "display_data"
    }
   ],
   "source": [
    "sample=pd.DataFrame(pick_samples('random',.05))\n",
    "sample_data = data.loc[data.index[sample[0]]]\n",
    "import matplotlib.pyplot as plt\n",
    "fig = plt.figure()\n",
    "#plt.scatter(data[1],data[2],c=data[3], alpha=0.5)\n",
    "#plt.scatter(sample_data[0],sample_data[1], marker = '*')\n",
    "#plt.show"
   ]
  },
  {
   "cell_type": "code",
   "execution_count": 171,
   "id": "98b7c9af-0a6f-484e-bd2e-49474db3426d",
   "metadata": {},
   "outputs": [],
   "source": [
    "#plt.scatter(data[0],data[1],c=data[2], alpha=0.5)\n",
    "#plt.scatter(sample_data[1],sample_data[2],c=sample_data[3], marker = '*')\n"
   ]
  },
  {
   "cell_type": "code",
   "execution_count": 172,
   "id": "df80bdcd-c0f6-483b-8997-4feb84990d5f",
   "metadata": {},
   "outputs": [],
   "source": [
    "p_data = sample_data[4].value_counts() "
   ]
  },
  {
   "cell_type": "code",
   "execution_count": 173,
   "id": "b05a7004-888d-4579-ac43-b3c67d188002",
   "metadata": {},
   "outputs": [],
   "source": [
    "entropy = scipy.stats.entropy(p_data, base=len(p_data))"
   ]
  },
  {
   "cell_type": "code",
   "execution_count": 174,
   "id": "98cf5656-54e3-439a-8cbf-919ad9c10efd",
   "metadata": {},
   "outputs": [
    {
     "data": {
      "text/plain": [
       "0.8366407419411673"
      ]
     },
     "execution_count": 174,
     "metadata": {},
     "output_type": "execute_result"
    }
   ],
   "source": [
    "entropy"
   ]
  },
  {
   "cell_type": "code",
   "execution_count": 175,
   "id": "9ec19a47-af47-482d-829c-c8d7c183eb77",
   "metadata": {},
   "outputs": [
    {
     "data": {
      "text/plain": [
       "1    11\n",
       "2     4\n",
       "Name: 4, dtype: int64"
      ]
     },
     "execution_count": 175,
     "metadata": {},
     "output_type": "execute_result"
    }
   ],
   "source": [
    "p_data"
   ]
  },
  {
   "cell_type": "code",
   "execution_count": 53,
   "id": "a92eea1a-7799-4a79-9791-1d6a23cd8d8e",
   "metadata": {},
   "outputs": [],
   "source": [
    "sample.to_csv('hdbscan/randomSamples.csv',sep=' ',header=None,index=None)"
   ]
  },
  {
   "cell_type": "code",
   "execution_count": 25,
   "id": "9df9b500-9e8d-4d28-97c9-1616caa0fc90",
   "metadata": {},
   "outputs": [],
   "source": [
    "sample=pd.DataFrame(pick_samples('random',.05))"
   ]
  },
  {
   "cell_type": "code",
   "execution_count": 32,
   "id": "273ebdd6-d09a-4287-9f6e-b7c027ab17c4",
   "metadata": {},
   "outputs": [
    {
     "data": {
      "text/html": [
       "<div>\n",
       "<style scoped>\n",
       "    .dataframe tbody tr th:only-of-type {\n",
       "        vertical-align: middle;\n",
       "    }\n",
       "\n",
       "    .dataframe tbody tr th {\n",
       "        vertical-align: top;\n",
       "    }\n",
       "\n",
       "    .dataframe thead th {\n",
       "        text-align: right;\n",
       "    }\n",
       "</style>\n",
       "<table border=\"1\" class=\"dataframe\">\n",
       "  <thead>\n",
       "    <tr style=\"text-align: right;\">\n",
       "      <th></th>\n",
       "      <th>0</th>\n",
       "    </tr>\n",
       "  </thead>\n",
       "  <tbody>\n",
       "    <tr>\n",
       "      <th>0</th>\n",
       "      <td>859</td>\n",
       "    </tr>\n",
       "    <tr>\n",
       "      <th>1</th>\n",
       "      <td>1223</td>\n",
       "    </tr>\n",
       "    <tr>\n",
       "      <th>2</th>\n",
       "      <td>2496</td>\n",
       "    </tr>\n",
       "    <tr>\n",
       "      <th>3</th>\n",
       "      <td>1749</td>\n",
       "    </tr>\n",
       "    <tr>\n",
       "      <th>4</th>\n",
       "      <td>273</td>\n",
       "    </tr>\n",
       "    <tr>\n",
       "      <th>...</th>\n",
       "      <td>...</td>\n",
       "    </tr>\n",
       "    <tr>\n",
       "      <th>150</th>\n",
       "      <td>886</td>\n",
       "    </tr>\n",
       "    <tr>\n",
       "      <th>151</th>\n",
       "      <td>1571</td>\n",
       "    </tr>\n",
       "    <tr>\n",
       "      <th>152</th>\n",
       "      <td>1940</td>\n",
       "    </tr>\n",
       "    <tr>\n",
       "      <th>153</th>\n",
       "      <td>1584</td>\n",
       "    </tr>\n",
       "    <tr>\n",
       "      <th>154</th>\n",
       "      <td>2868</td>\n",
       "    </tr>\n",
       "  </tbody>\n",
       "</table>\n",
       "<p>155 rows × 1 columns</p>\n",
       "</div>"
      ],
      "text/plain": [
       "        0\n",
       "0     859\n",
       "1    1223\n",
       "2    2496\n",
       "3    1749\n",
       "4     273\n",
       "..    ...\n",
       "150   886\n",
       "151  1571\n",
       "152  1940\n",
       "153  1584\n",
       "154  2868\n",
       "\n",
       "[155 rows x 1 columns]"
      ]
     },
     "execution_count": 32,
     "metadata": {},
     "output_type": "execute_result"
    }
   ],
   "source": [
    "sample"
   ]
  },
  {
   "cell_type": "code",
   "execution_count": 33,
   "id": "90cb6eb0-84da-43b5-91a5-64b41e8259aa",
   "metadata": {},
   "outputs": [
    {
     "data": {
      "text/plain": [
       "9     22\n",
       "25    20\n",
       "7     20\n",
       "2     19\n",
       "13    19\n",
       "19    18\n",
       "8     18\n",
       "18    18\n",
       "30    18\n",
       "11    18\n",
       "24    17\n",
       "10    17\n",
       "16    17\n",
       "1     16\n",
       "6     16\n",
       "31    14\n",
       "27    14\n",
       "3     14\n",
       "22    14\n",
       "26    14\n",
       "17    13\n",
       "28    12\n",
       "14    12\n",
       "15    12\n",
       "23    12\n",
       "5     12\n",
       "20    11\n",
       "4     11\n",
       "21    10\n",
       "12    10\n",
       "29     7\n",
       "Name: 3, dtype: int64"
      ]
     },
     "execution_count": 33,
     "metadata": {},
     "output_type": "execute_result"
    }
   ],
   "source": [
    "p_data"
   ]
  },
  {
   "cell_type": "code",
   "execution_count": null,
   "id": "58a16819-864a-497a-828d-924b8ca9c1ce",
   "metadata": {},
   "outputs": [],
   "source": []
  },
  {
   "cell_type": "code",
   "execution_count": null,
   "id": "c540b944-f664-4369-adbc-44cb92606666",
   "metadata": {},
   "outputs": [],
   "source": []
  }
 ],
 "metadata": {
  "kernelspec": {
   "display_name": "Python 3 (ipykernel)",
   "language": "python",
   "name": "python3"
  },
  "language_info": {
   "codemirror_mode": {
    "name": "ipython",
    "version": 3
   },
   "file_extension": ".py",
   "mimetype": "text/x-python",
   "name": "python",
   "nbconvert_exporter": "python",
   "pygments_lexer": "ipython3",
   "version": "3.9.13"
  }
 },
 "nbformat": 4,
 "nbformat_minor": 5
}
