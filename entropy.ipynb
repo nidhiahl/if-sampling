{
 "cells": [
  {
   "cell_type": "code",
   "execution_count": 6,
   "id": "65613315",
   "metadata": {},
   "outputs": [],
   "source": [
    "import pandas as pd\n",
    "import numpy as np\n",
    "import scipy.stats"
   ]
  },
  {
   "cell_type": "code",
   "execution_count": 26,
   "id": "b9013f75-8c4b-4fd3-ad39-69f0a85de274",
   "metadata": {},
   "outputs": [],
   "source": [
    "dataset = 'hdbscan'\n",
    "tree_criterion = 'random'\n",
    "leaf_criterion = 'soft_discard'\n",
    "point_criterion = 'border_points'\n",
    "sample_size = 5"
   ]
  },
  {
   "cell_type": "code",
   "execution_count": 29,
   "id": "f97d78e9-d496-4298-b634-79d47e53d413",
   "metadata": {},
   "outputs": [],
   "source": [
    "data = pd.read_csv(dataset+'/'+dataset+'.csv', sep = '\\t', header = None, skiprows = 1)\n",
    "#sample = pd.read_csv(dataset+'/sampleSets/5_Run'+str(sample_size)+'%_'+tree_criterion+'_'+leaf_criterion+'_'+point_criterion+'_sampleSet.csv', sep =' ', header = None)\n",
    "data =data.set_index(0)"
   ]
  },
  {
   "cell_type": "code",
   "execution_count": 30,
   "id": "21223623-4026-458c-8b09-d70d2af1dca2",
   "metadata": {},
   "outputs": [
    {
     "data": {
      "text/html": [
       "<div>\n",
       "<style scoped>\n",
       "    .dataframe tbody tr th:only-of-type {\n",
       "        vertical-align: middle;\n",
       "    }\n",
       "\n",
       "    .dataframe tbody tr th {\n",
       "        vertical-align: top;\n",
       "    }\n",
       "\n",
       "    .dataframe thead th {\n",
       "        text-align: right;\n",
       "    }\n",
       "</style>\n",
       "<table border=\"1\" class=\"dataframe\">\n",
       "  <thead>\n",
       "    <tr style=\"text-align: right;\">\n",
       "      <th></th>\n",
       "      <th>1</th>\n",
       "      <th>2</th>\n",
       "      <th>3</th>\n",
       "    </tr>\n",
       "    <tr>\n",
       "      <th>0</th>\n",
       "      <th></th>\n",
       "      <th></th>\n",
       "      <th></th>\n",
       "    </tr>\n",
       "  </thead>\n",
       "  <tbody>\n",
       "    <tr>\n",
       "      <th>0</th>\n",
       "      <td>-0.121535</td>\n",
       "      <td>-0.228763</td>\n",
       "      <td>1</td>\n",
       "    </tr>\n",
       "    <tr>\n",
       "      <th>1</th>\n",
       "      <td>-0.220937</td>\n",
       "      <td>-0.252511</td>\n",
       "      <td>1</td>\n",
       "    </tr>\n",
       "    <tr>\n",
       "      <th>2</th>\n",
       "      <td>0.125904</td>\n",
       "      <td>-0.273143</td>\n",
       "      <td>1</td>\n",
       "    </tr>\n",
       "    <tr>\n",
       "      <th>3</th>\n",
       "      <td>-0.164537</td>\n",
       "      <td>-0.222244</td>\n",
       "      <td>1</td>\n",
       "    </tr>\n",
       "    <tr>\n",
       "      <th>4</th>\n",
       "      <td>-0.180824</td>\n",
       "      <td>-0.211075</td>\n",
       "      <td>1</td>\n",
       "    </tr>\n",
       "    <tr>\n",
       "      <th>...</th>\n",
       "      <td>...</td>\n",
       "      <td>...</td>\n",
       "      <td>...</td>\n",
       "    </tr>\n",
       "    <tr>\n",
       "      <th>2304</th>\n",
       "      <td>-0.063610</td>\n",
       "      <td>0.013804</td>\n",
       "      <td>4</td>\n",
       "    </tr>\n",
       "    <tr>\n",
       "      <th>2305</th>\n",
       "      <td>0.284742</td>\n",
       "      <td>0.301998</td>\n",
       "      <td>0</td>\n",
       "    </tr>\n",
       "    <tr>\n",
       "      <th>2306</th>\n",
       "      <td>0.502431</td>\n",
       "      <td>-0.300296</td>\n",
       "      <td>0</td>\n",
       "    </tr>\n",
       "    <tr>\n",
       "      <th>2307</th>\n",
       "      <td>0.538223</td>\n",
       "      <td>0.194122</td>\n",
       "      <td>0</td>\n",
       "    </tr>\n",
       "    <tr>\n",
       "      <th>2308</th>\n",
       "      <td>-0.086889</td>\n",
       "      <td>-0.209272</td>\n",
       "      <td>1</td>\n",
       "    </tr>\n",
       "  </tbody>\n",
       "</table>\n",
       "<p>2309 rows × 3 columns</p>\n",
       "</div>"
      ],
      "text/plain": [
       "             1         2  3\n",
       "0                          \n",
       "0    -0.121535 -0.228763  1\n",
       "1    -0.220937 -0.252511  1\n",
       "2     0.125904 -0.273143  1\n",
       "3    -0.164537 -0.222244  1\n",
       "4    -0.180824 -0.211075  1\n",
       "...        ...       ... ..\n",
       "2304 -0.063610  0.013804  4\n",
       "2305  0.284742  0.301998  0\n",
       "2306  0.502431 -0.300296  0\n",
       "2307  0.538223  0.194122  0\n",
       "2308 -0.086889 -0.209272  1\n",
       "\n",
       "[2309 rows x 3 columns]"
      ]
     },
     "execution_count": 30,
     "metadata": {},
     "output_type": "execute_result"
    }
   ],
   "source": [
    "data"
   ]
  },
  {
   "cell_type": "code",
   "execution_count": 20,
   "id": "68bfaf40-afc2-4387-b71e-6af8208b3bda",
   "metadata": {},
   "outputs": [],
   "source": [
    "p_data = data[len(data.columns)].value_counts()"
   ]
  },
  {
   "cell_type": "code",
   "execution_count": 22,
   "id": "c00f1dc5-f217-4260-bdf4-5ea3117f8b01",
   "metadata": {},
   "outputs": [
    {
     "data": {
      "text/plain": [
       "1    45586\n",
       "4     8903\n",
       "5     3267\n",
       "3      171\n",
       "2       49\n",
       "7       13\n",
       "6       10\n",
       "Name: 10, dtype: int64"
      ]
     },
     "execution_count": 22,
     "metadata": {},
     "output_type": "execute_result"
    }
   ],
   "source": [
    "p_data"
   ]
  },
  {
   "cell_type": "code",
   "execution_count": 24,
   "id": "f7cbf7ee-5cb0-4c3f-b623-e03e7350fd25",
   "metadata": {},
   "outputs": [],
   "source": [
    "entropy = scipy.stats.entropy(p_data, base=len(p_data))"
   ]
  },
  {
   "cell_type": "code",
   "execution_count": 25,
   "id": "c440ab31-c831-47fe-852d-2ebee78cccde",
   "metadata": {},
   "outputs": [
    {
     "data": {
      "text/plain": [
       "0.34200953426420594"
      ]
     },
     "execution_count": 25,
     "metadata": {},
     "output_type": "execute_result"
    }
   ],
   "source": [
    "entropy"
   ]
  },
  {
   "cell_type": "code",
   "execution_count": 5,
   "id": "f743d557-7ca6-4e32-8466-f980b4fa1d5d",
   "metadata": {},
   "outputs": [
    {
     "ename": "NameError",
     "evalue": "name 'sample' is not defined",
     "output_type": "error",
     "traceback": [
      "\u001b[0;31m---------------------------------------------------------------------------\u001b[0m",
      "\u001b[0;31mNameError\u001b[0m                                 Traceback (most recent call last)",
      "\u001b[0;32m/tmp/ipykernel_9792/1521196363.py\u001b[0m in \u001b[0;36m<module>\u001b[0;34m\u001b[0m\n\u001b[0;32m----> 1\u001b[0;31m \u001b[0msample_data\u001b[0m \u001b[0;34m=\u001b[0m \u001b[0mdata\u001b[0m\u001b[0;34m.\u001b[0m\u001b[0mloc\u001b[0m\u001b[0;34m[\u001b[0m\u001b[0mdata\u001b[0m\u001b[0;34m.\u001b[0m\u001b[0mindex\u001b[0m\u001b[0;34m[\u001b[0m\u001b[0msample\u001b[0m\u001b[0;34m[\u001b[0m\u001b[0;36m0\u001b[0m\u001b[0;34m]\u001b[0m\u001b[0;34m]\u001b[0m\u001b[0;34m]\u001b[0m\u001b[0;34m\u001b[0m\u001b[0;34m\u001b[0m\u001b[0m\n\u001b[0m\u001b[1;32m      2\u001b[0m \u001b[0mp_sample_data\u001b[0m \u001b[0;34m=\u001b[0m \u001b[0msample_data\u001b[0m\u001b[0;34m[\u001b[0m\u001b[0mlen\u001b[0m\u001b[0;34m(\u001b[0m\u001b[0msample_data\u001b[0m\u001b[0;34m.\u001b[0m\u001b[0mcolumns\u001b[0m\u001b[0;34m)\u001b[0m\u001b[0;34m]\u001b[0m\u001b[0;34m.\u001b[0m\u001b[0mvalue_counts\u001b[0m\u001b[0;34m(\u001b[0m\u001b[0;34m)\u001b[0m\u001b[0;34m\u001b[0m\u001b[0;34m\u001b[0m\u001b[0m\n\u001b[1;32m      3\u001b[0m \u001b[0mentropy\u001b[0m \u001b[0;34m=\u001b[0m \u001b[0mscipy\u001b[0m\u001b[0;34m.\u001b[0m\u001b[0mstats\u001b[0m\u001b[0;34m.\u001b[0m\u001b[0mentropy\u001b[0m\u001b[0;34m(\u001b[0m\u001b[0mp_sample_data\u001b[0m\u001b[0;34m,\u001b[0m \u001b[0mbase\u001b[0m\u001b[0;34m=\u001b[0m\u001b[0mlen\u001b[0m\u001b[0;34m(\u001b[0m\u001b[0mp_sample_data\u001b[0m\u001b[0;34m)\u001b[0m\u001b[0;34m)\u001b[0m\u001b[0;34m\u001b[0m\u001b[0;34m\u001b[0m\u001b[0m\n",
      "\u001b[0;31mNameError\u001b[0m: name 'sample' is not defined"
     ]
    }
   ],
   "source": [
    "sample_data = data.loc[data.index[sample[0]]]\n",
    "p_sample_data = sample_data[len(sample_data.columns)].value_counts() \n",
    "entropy = scipy.stats.entropy(p_sample_data, base=len(p_sample_data))"
   ]
  },
  {
   "cell_type": "code",
   "execution_count": null,
   "id": "22e08836-c3f9-42ff-90ad-c598d879cb20",
   "metadata": {},
   "outputs": [],
   "source": []
  },
  {
   "cell_type": "code",
   "execution_count": null,
   "id": "8be2a8fd-c005-48ed-87c9-012e38b7e09b",
   "metadata": {},
   "outputs": [],
   "source": [
    "print(p_sample_data)\n",
    "print(\"Entropy:\",entropy)"
   ]
  },
  {
   "cell_type": "code",
   "execution_count": null,
   "id": "a2636b04-8a5b-44d9-aadb-160ab58cf043",
   "metadata": {},
   "outputs": [],
   "source": [
    "type(p_sample_data)"
   ]
  },
  {
   "cell_type": "code",
   "execution_count": null,
   "id": "6e7aa1a2-26f8-41c4-af01-3a6e658ae3c7",
   "metadata": {},
   "outputs": [],
   "source": [
    "import matplotlib.pyplot as plt\n",
    "fig = plt.figure()\n",
    "plt.scatter(data[1],data[2],c=data[3], alpha=0.5)\n",
    "#plt.savefig('2Q')"
   ]
  },
  {
   "cell_type": "code",
   "execution_count": null,
   "id": "6694c5fe-c6cc-42b5-8faa-4509b24e4163",
   "metadata": {},
   "outputs": [],
   "source": [
    "plt.scatter(sample_data[1],sample_data[2],c=sample_data[3], marker = 'o')\n",
    "#plt.scatter(sample_data[1],sample_data[2], marker = '*')\n"
   ]
  },
  {
   "cell_type": "code",
   "execution_count": null,
   "id": "eb7f46f4-c2b0-4f93-b3a3-bba482691cfe",
   "metadata": {},
   "outputs": [],
   "source": []
  },
  {
   "cell_type": "code",
   "execution_count": null,
   "id": "62de46bf-9a44-4d7a-a1c6-fb5ff2fbd29f",
   "metadata": {},
   "outputs": [],
   "source": []
  }
 ],
 "metadata": {
  "kernelspec": {
   "display_name": "Python 3 (ipykernel)",
   "language": "python",
   "name": "python3"
  },
  "language_info": {
   "codemirror_mode": {
    "name": "ipython",
    "version": 3
   },
   "file_extension": ".py",
   "mimetype": "text/x-python",
   "name": "python",
   "nbconvert_exporter": "python",
   "pygments_lexer": "ipython3",
   "version": "3.9.13"
  }
 },
 "nbformat": 4,
 "nbformat_minor": 5
}
