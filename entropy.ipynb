{
 "cells": [
  {
   "cell_type": "code",
   "execution_count": 9,
   "id": "65613315",
   "metadata": {},
   "outputs": [],
   "source": [
    "import pandas as pd\n",
    "import numpy as np\n",
    "import scipy.stats"
   ]
  },
  {
   "cell_type": "code",
   "execution_count": 14,
   "id": "b9013f75-8c4b-4fd3-ad39-69f0a85de274",
   "metadata": {},
   "outputs": [],
   "source": [
    "dataset = 'hdbscan'\n",
    "tree_criterion = 'random'\n",
    "leaf_criterion = 'random'\n",
    "point_criterion = 'random'"
   ]
  },
  {
   "cell_type": "code",
   "execution_count": 15,
   "id": "f97d78e9-d496-4298-b634-79d47e53d413",
   "metadata": {},
   "outputs": [],
   "source": [
    "data = pd.read_csv(dataset+'/'+dataset+'.csv', sep = '\\t', header = None, skiprows = 1)\n",
    "sample = pd.read_csv(dataset+'/sampleSets/'+tree_criterion+'_'+leaf_criterion+'_'+point_criterion+'_sampleSet.csv', sep =' ', header = None)\n",
    "data =data.set_index(0)"
   ]
  },
  {
   "cell_type": "code",
   "execution_count": 16,
   "id": "f743d557-7ca6-4e32-8466-f980b4fa1d5d",
   "metadata": {},
   "outputs": [],
   "source": [
    "sample_data = data.loc[data.index[sample[0]]]\n",
    "p_sample_data = sample_data[len(sample_data.columns)].value_counts() \n",
    "entropy = scipy.stats.entropy(p_sample_data, base=len(p_sample_data))"
   ]
  },
  {
   "cell_type": "code",
   "execution_count": 17,
   "id": "8be2a8fd-c005-48ed-87c9-012e38b7e09b",
   "metadata": {},
   "outputs": [
    {
     "name": "stdout",
     "output_type": "stream",
     "text": [
      "0    433\n",
      "1    241\n",
      "3    236\n",
      "2    166\n",
      "5    165\n",
      "4    156\n",
      "6    123\n",
      "Name: 3, dtype: int64\n",
      "Entropy: 0.9552933171428031\n"
     ]
    }
   ],
   "source": [
    "print(p_sample_data)\n",
    "print(\"Entropy:\",entropy)"
   ]
  },
  {
   "cell_type": "code",
   "execution_count": null,
   "id": "a2636b04-8a5b-44d9-aadb-160ab58cf043",
   "metadata": {},
   "outputs": [],
   "source": []
  },
  {
   "cell_type": "code",
   "execution_count": null,
   "id": "6e7aa1a2-26f8-41c4-af01-3a6e658ae3c7",
   "metadata": {},
   "outputs": [],
   "source": []
  }
 ],
 "metadata": {
  "kernelspec": {
   "display_name": "Python 3 (ipykernel)",
   "language": "python",
   "name": "python3"
  },
  "language_info": {
   "codemirror_mode": {
    "name": "ipython",
    "version": 3
   },
   "file_extension": ".py",
   "mimetype": "text/x-python",
   "name": "python",
   "nbconvert_exporter": "python",
   "pygments_lexer": "ipython3",
   "version": "3.9.13"
  }
 },
 "nbformat": 4,
 "nbformat_minor": 5
}
